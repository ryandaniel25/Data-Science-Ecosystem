{
 "cells": [
  {
   "cell_type": "markdown",
   "metadata": {},
   "source": [
    "<center>\n",
    "    <img src=\"https://cf-courses-data.s3.us.cloud-object-storage.appdomain.cloud/IBMDeveloperSkillsNetwork-DS0105EN-SkillsNetwork/labs/Module2/images/SN_web_lightmode.png\" width=\"300\" alt=\"cognitiveclass.ai logo\">\n",
    "</center>\n"
   ]
  },
  {
   "cell_type": "markdown",
   "metadata": {},
   "source": [
    "## Author\n",
    "Ryan Daniel Asatama Sibagariang\n"
   ]
  },
  {
   "cell_type": "markdown",
   "metadata": {},
   "source": [
    "# Data Science Tools and Ecosystem"
   ]
  },
  {
   "cell_type": "markdown",
   "metadata": {},
   "source": [
    "## Introduction\n",
    "In this notebook, we will explore and summarize the Data Science Tools and Ecosystem. This overview will provide valuable insights into the tools and resources commonly used in the field of data science.\n"
   ]
  },
  {
   "cell_type": "markdown",
   "metadata": {},
   "source": [
    "**Objectives:**\n",
    "\n",
    "- List popular languages for Data Science.\n",
    "- Introduce commonly used libraries in Data Science.\n",
    "- Provide information about Data Science tools.\n",
    "- Illustrate arithmetic expression examples in Python.\n",
    "- Perform basic calculations and conversions in Python.\n"
   ]
  },
  {
   "cell_type": "markdown",
   "metadata": {},
   "source": [
    "## Popular Data Science Languages\n",
    "\n",
    "Some of the popular languages that Data Scientists use include:\n",
    "\n",
    "1. **Python**: Known for its simplicity and a rich ecosystem of libraries such as NumPy, Pandas, and Scikit-Learn, Python is the most widely used language in data science.\n",
    "\n",
    "2. **R**: R is a language specifically designed for statistical analysis and data visualization, making it a powerful tool for statisticians and data analysts.\n",
    "\n",
    "3. **SQL (Structured Query Language)**: SQL is essential for working with relational databases, which are commonly used in data science for data storage and retrieval.\n",
    "\n",
    "4. **Julia**: Julia is gaining popularity for its high-performance computing capabilities, making it suitable for data-intensive tasks.\n",
    "\n",
    "5. **Scala**: Scala, particularly when used with Apache Spark, is ideal for distributed data processing and big data analytics.\n",
    "\n",
    "These languages provide a versatile toolkit for data scientists to manipulate, analyze, and visualize data effectively.\n"
   ]
  },
  {
   "cell_type": "markdown",
   "metadata": {},
   "source": [
    "## Common Data Science Libraries\n",
    "\n",
    "Some of the commonly used libraries by Data Scientists include:\n",
    "\n",
    "1. **NumPy**: NumPy is a fundamental library for numerical computing in Python. It provides support for arrays and matrices, along with a variety of mathematical functions to operate on these arrays.\n",
    "\n",
    "2. **Pandas**: Pandas is a popular library for data manipulation and analysis. It offers data structures like DataFrames and Series, making it easier to work with structured data.\n",
    "\n",
    "3. **Matplotlib**: Matplotlib is a widely used library for creating static, animated, and interactive visualizations in Python. It provides a high degree of customization for data plotting.\n",
    "\n",
    "4. **Scikit-Learn**: Scikit-Learn is a machine learning library that offers a wide range of tools for data mining and analysis. It includes algorithms for classification, regression, clustering, and more.\n",
    "\n",
    "5. **Seaborn**: Seaborn is a data visualization library built on top of Matplotlib. It provides a high-level interface for creating informative and attractive statistical graphics.\n",
    "\n",
    "6. **TensorFlow**: TensorFlow is an open-source machine learning framework developed by Google. It's commonly used for deep learning tasks, such as neural networks and natural language processing.\n",
    "\n",
    "These libraries play a crucial role in simplifying and accelerating various data science tasks, from data cleaning and exploration to machine learning and visualization.\n"
   ]
  },
  {
   "cell_type": "markdown",
   "metadata": {},
   "source": [
    "## Data Science Tools\n",
    "\n",
    "| Data Science Tools       |\n",
    "|--------------------------|\n",
    "| Jupyter Notebook         |\n",
    "| RStudio                  |\n",
    "| Visual Studio Code (VSCode) |\n"
   ]
  },
  {
   "cell_type": "markdown",
   "metadata": {},
   "source": [
    "### Examples of Evaluating Arithmetic Expressions in Python\n",
    "\n",
    "Below are a few examples demonstrating how to evaluate arithmetic expressions in Python.\n"
   ]
  },
  {
   "cell_type": "code",
   "execution_count": 5,
   "metadata": {
    "tags": []
   },
   "outputs": [
    {
     "data": {
      "text/plain": [
       "17"
      ]
     },
     "execution_count": 5,
     "metadata": {},
     "output_type": "execute_result"
    }
   ],
   "source": [
    "# This is a simple arithmetic expression to multiply then add integers.\n",
    "result = (3 * 4) + 5\n",
    "result"
   ]
  },
  {
   "cell_type": "code",
   "execution_count": 6,
   "metadata": {
    "tags": []
   },
   "outputs": [
    {
     "data": {
      "text/plain": [
       "3.3333333333333335"
      ]
     },
     "execution_count": 6,
     "metadata": {},
     "output_type": "execute_result"
    }
   ],
   "source": [
    "# This will convert 200 minutes to hours by dividing by 60.\n",
    "minutes = 200\n",
    "hours = minutes / 60\n",
    "hours\n"
   ]
  },
  {
   "cell_type": "code",
   "execution_count": null,
   "metadata": {},
   "outputs": [],
   "source": []
  }
 ],
 "metadata": {
  "kernelspec": {
   "display_name": "Python",
   "language": "python",
   "name": "conda-env-python-py"
  },
  "language_info": {
   "codemirror_mode": {
    "name": "ipython",
    "version": 3
   },
   "file_extension": ".py",
   "mimetype": "text/x-python",
   "name": "python",
   "nbconvert_exporter": "python",
   "pygments_lexer": "ipython3",
   "version": "3.7.12"
  }
 },
 "nbformat": 4,
 "nbformat_minor": 4
}
